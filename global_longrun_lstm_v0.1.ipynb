{
 "cells": [
  {
   "cell_type": "markdown",
   "metadata": {},
   "source": [
    "`Note :` Group 25, global longrun LSTM Development\n",
    "### This is the try out of the LSTM model only includes `one` geological location's time dependency variables as predictors. \n",
    "\n",
    "Date: Oct 4, 2022"
   ]
  },
  {
   "cell_type": "code",
   "execution_count": 4,
   "metadata": {},
   "outputs": [],
   "source": [
    "from netCDF4 import Dataset\n",
    "import numpy as np\n",
    "import numpy.ma as ma\n",
    "import pandas as pd\n",
    "from numpy import hstack\n",
    "import matplotlib.pyplot as plt\n",
    "import gc"
   ]
  },
  {
   "cell_type": "code",
   "execution_count": 5,
   "metadata": {},
   "outputs": [],
   "source": [
    "airTemp = 'D:/1study/VegeSimulation/for_students/for_students/global-longrun_jedi-dvgm_inputs_outputs/tas.nc'\n",
    "netLongRadiantionFlux = 'D:/1study/VegeSimulation/for_students/for_students/global-longrun_jedi-dvgm_inputs_outputs/rlns.nc'\n",
    "shortwaveRadiation = 'D:/1study/VegeSimulation/for_students/for_students/global-longrun_jedi-dvgm_inputs_outputs/rsds.nc'\n",
    "precipitation = 'D:/1study/VegeSimulation/for_students/for_students/global-longrun_jedi-dvgm_inputs_outputs/pr.nc'\n",
    "output = 'D:/1study/VegeSimulation/for_students/for_students/global-longrun_jedi-dvgm_inputs_outputs/jedi_output.nc'\n",
    "\n",
    "landSeaMask = 'D:/1study/VegeSimulation/for_students/for_students/global-longrun_jedi-dvgm_inputs_outputs/landsea.nc'\n",
    "lantitude =  'D:/1study/VegeSimulation/for_students/for_students/global-longrun_jedi-dvgm_inputs_outputs/latitude.nc'\n",
    "longitude = 'D:/1study/VegeSimulation/for_students/for_students/global-longrun_jedi-dvgm_inputs_outputs/longitude.nc'\n",
    "elevation = 'D:/1study/VegeSimulation/for_students/for_students/global-longrun_jedi-dvgm_inputs_outputs/elevation.nc'\n",
    "moisture = 'D:/1study/VegeSimulation/for_students/for_students/global-longrun_jedi-dvgm_inputs_outputs/paw.nc'\n",
    "spatialMetaData = 'D:/1study/VegeSimulation/for_students/for_students/global-longrun_jedi-dvgm_inputs_outputs/globe_surf.nc'\n",
    "\n",
    "airTempDataset = Dataset(airTemp)\n",
    "netLongRadiantionFluxDataSet = Dataset(netLongRadiantionFlux)\n",
    "shortwaveRadiationDataset = Dataset(shortwaveRadiation)\n",
    "precipitationDataSet = Dataset(precipitation)\n",
    "outputDataset = Dataset(output)\n",
    "\n",
    "landSeaMaskDataset = Dataset(landSeaMask)\n",
    "lantitudeDataset = Dataset(lantitude)\n",
    "longitudeDataset = Dataset(longitude)\n",
    "elevationDataset = Dataset(elevation)\n",
    "moistureDataset = Dataset(moisture)\n",
    "spatialMetaDataset = Dataset(spatialMetaData)\n",
    "\n",
    "airTempArray = airTempDataset['tas'][:].squeeze()\n",
    "netLongRadiantionFluxArray = netLongRadiantionFluxDataSet['rlns'][:].squeeze()\n",
    "shortwaveRadiationArray = shortwaveRadiationDataset['rsds'][:].squeeze()\n",
    "precipitationArray = precipitationDataSet['pr'][:].squeeze()\n",
    "NPPArray = outputDataset['NPP'][:].squeeze()\n",
    "landSeaMaskArray = landSeaMaskDataset['var1'][:].squeeze()\n",
    "lantitudeArray = lantitudeDataset['lat'][:].squeeze()\n",
    "longitudeArray = longitudeDataset['lon'][:].squeeze()\n",
    "elevationArray = elevationDataset['data'][:].squeeze()\n",
    "moistureArray = moistureDataset['paw'][:].squeeze()\n",
    "spatialMetaDataArray = spatialMetaDataset['lev']"
   ]
  },
  {
   "cell_type": "code",
   "execution_count": 2,
   "metadata": {},
   "outputs": [],
   "source": [
    "def normalize(x):\n",
    "    for i in range(len(x)):\n",
    "        x[i] = (x[i]-np.min(x))/(np.max(x)-np.min(x))\n",
    "    return x\n"
   ]
  },
  {
   "cell_type": "code",
   "execution_count": 6,
   "metadata": {},
   "outputs": [
    {
     "data": {
      "text/plain": [
       "masked_array(\n",
       "  data=[[[--, --, --, ..., --, --, --],\n",
       "         [--, --, --, ..., --, --, --],\n",
       "         [--, --, --, ..., --, --, --],\n",
       "         ...,\n",
       "         [--, --, --, ..., --, --, --],\n",
       "         [--, --, --, ..., --, --, --],\n",
       "         [--, --, --, ..., --, --, --]],\n",
       "\n",
       "        [[--, --, --, ..., --, --, --],\n",
       "         [--, --, --, ..., --, --, --],\n",
       "         [--, --, --, ..., --, --, --],\n",
       "         ...,\n",
       "         [--, --, --, ..., --, --, --],\n",
       "         [--, --, --, ..., --, --, --],\n",
       "         [--, --, --, ..., --, --, --]],\n",
       "\n",
       "        [[--, --, --, ..., --, --, --],\n",
       "         [--, --, --, ..., --, --, --],\n",
       "         [--, --, --, ..., --, --, --],\n",
       "         ...,\n",
       "         [--, --, --, ..., --, --, --],\n",
       "         [--, --, --, ..., --, --, --],\n",
       "         [--, --, --, ..., --, --, --]],\n",
       "\n",
       "        ...,\n",
       "\n",
       "        [[--, --, --, ..., --, --, --],\n",
       "         [--, --, --, ..., --, --, --],\n",
       "         [--, --, --, ..., --, --, --],\n",
       "         ...,\n",
       "         [--, --, --, ..., --, --, --],\n",
       "         [--, --, --, ..., --, --, --],\n",
       "         [--, --, --, ..., --, --, --]],\n",
       "\n",
       "        [[--, --, --, ..., --, --, --],\n",
       "         [--, --, --, ..., --, --, --],\n",
       "         [--, --, --, ..., --, --, --],\n",
       "         ...,\n",
       "         [--, --, --, ..., --, --, --],\n",
       "         [--, --, --, ..., --, --, --],\n",
       "         [--, --, --, ..., --, --, --]],\n",
       "\n",
       "        [[--, --, --, ..., --, --, --],\n",
       "         [--, --, --, ..., --, --, --],\n",
       "         [--, --, --, ..., --, --, --],\n",
       "         ...,\n",
       "         [--, --, --, ..., --, --, --],\n",
       "         [--, --, --, ..., --, --, --],\n",
       "         [--, --, --, ..., --, --, --]]],\n",
       "  mask=[[[ True,  True,  True, ...,  True,  True,  True],\n",
       "         [ True,  True,  True, ...,  True,  True,  True],\n",
       "         [ True,  True,  True, ...,  True,  True,  True],\n",
       "         ...,\n",
       "         [ True,  True,  True, ...,  True,  True,  True],\n",
       "         [ True,  True,  True, ...,  True,  True,  True],\n",
       "         [ True,  True,  True, ...,  True,  True,  True]],\n",
       "\n",
       "        [[ True,  True,  True, ...,  True,  True,  True],\n",
       "         [ True,  True,  True, ...,  True,  True,  True],\n",
       "         [ True,  True,  True, ...,  True,  True,  True],\n",
       "         ...,\n",
       "         [ True,  True,  True, ...,  True,  True,  True],\n",
       "         [ True,  True,  True, ...,  True,  True,  True],\n",
       "         [ True,  True,  True, ...,  True,  True,  True]],\n",
       "\n",
       "        [[ True,  True,  True, ...,  True,  True,  True],\n",
       "         [ True,  True,  True, ...,  True,  True,  True],\n",
       "         [ True,  True,  True, ...,  True,  True,  True],\n",
       "         ...,\n",
       "         [ True,  True,  True, ...,  True,  True,  True],\n",
       "         [ True,  True,  True, ...,  True,  True,  True],\n",
       "         [ True,  True,  True, ...,  True,  True,  True]],\n",
       "\n",
       "        ...,\n",
       "\n",
       "        [[ True,  True,  True, ...,  True,  True,  True],\n",
       "         [ True,  True,  True, ...,  True,  True,  True],\n",
       "         [ True,  True,  True, ...,  True,  True,  True],\n",
       "         ...,\n",
       "         [ True,  True,  True, ...,  True,  True,  True],\n",
       "         [ True,  True,  True, ...,  True,  True,  True],\n",
       "         [ True,  True,  True, ...,  True,  True,  True]],\n",
       "\n",
       "        [[ True,  True,  True, ...,  True,  True,  True],\n",
       "         [ True,  True,  True, ...,  True,  True,  True],\n",
       "         [ True,  True,  True, ...,  True,  True,  True],\n",
       "         ...,\n",
       "         [ True,  True,  True, ...,  True,  True,  True],\n",
       "         [ True,  True,  True, ...,  True,  True,  True],\n",
       "         [ True,  True,  True, ...,  True,  True,  True]],\n",
       "\n",
       "        [[ True,  True,  True, ...,  True,  True,  True],\n",
       "         [ True,  True,  True, ...,  True,  True,  True],\n",
       "         [ True,  True,  True, ...,  True,  True,  True],\n",
       "         ...,\n",
       "         [ True,  True,  True, ...,  True,  True,  True],\n",
       "         [ True,  True,  True, ...,  True,  True,  True],\n",
       "         [ True,  True,  True, ...,  True,  True,  True]]],\n",
       "  fill_value=1e+20,\n",
       "  dtype=float32)"
      ]
     },
     "execution_count": 6,
     "metadata": {},
     "output_type": "execute_result"
    }
   ],
   "source": [
    "mask = NPPArray==0\n",
    "maskednpp = ma.array(NPPArray,mask = mask)\n",
    "maskednpp"
   ]
  },
  {
   "cell_type": "code",
   "execution_count": 7,
   "metadata": {},
   "outputs": [
    {
     "data": {
      "text/plain": [
       "masked_array(\n",
       "  data=[[[0., 0., 0., ..., 0., 0., 0.],\n",
       "         [0., 0., 0., ..., 0., 0., 0.],\n",
       "         [0., 0., 0., ..., 0., 0., 0.],\n",
       "         ...,\n",
       "         [0., 0., 0., ..., 0., 0., 0.],\n",
       "         [0., 0., 0., ..., 0., 0., 0.],\n",
       "         [0., 0., 0., ..., 0., 0., 0.]],\n",
       "\n",
       "        [[0., 0., 0., ..., 0., 0., 0.],\n",
       "         [0., 0., 0., ..., 0., 0., 0.],\n",
       "         [0., 0., 0., ..., 0., 0., 0.],\n",
       "         ...,\n",
       "         [0., 0., 0., ..., 0., 0., 0.],\n",
       "         [0., 0., 0., ..., 0., 0., 0.],\n",
       "         [0., 0., 0., ..., 0., 0., 0.]],\n",
       "\n",
       "        [[0., 0., 0., ..., 0., 0., 0.],\n",
       "         [0., 0., 0., ..., 0., 0., 0.],\n",
       "         [0., 0., 0., ..., 0., 0., 0.],\n",
       "         ...,\n",
       "         [0., 0., 0., ..., 0., 0., 0.],\n",
       "         [0., 0., 0., ..., 0., 0., 0.],\n",
       "         [0., 0., 0., ..., 0., 0., 0.]],\n",
       "\n",
       "        ...,\n",
       "\n",
       "        [[0., 0., 0., ..., 0., 0., 0.],\n",
       "         [0., 0., 0., ..., 0., 0., 0.],\n",
       "         [0., 0., 0., ..., 0., 0., 0.],\n",
       "         ...,\n",
       "         [0., 0., 0., ..., 0., 0., 0.],\n",
       "         [0., 0., 0., ..., 0., 0., 0.],\n",
       "         [0., 0., 0., ..., 0., 0., 0.]],\n",
       "\n",
       "        [[0., 0., 0., ..., 0., 0., 0.],\n",
       "         [0., 0., 0., ..., 0., 0., 0.],\n",
       "         [0., 0., 0., ..., 0., 0., 0.],\n",
       "         ...,\n",
       "         [0., 0., 0., ..., 0., 0., 0.],\n",
       "         [0., 0., 0., ..., 0., 0., 0.],\n",
       "         [0., 0., 0., ..., 0., 0., 0.]],\n",
       "\n",
       "        [[0., 0., 0., ..., 0., 0., 0.],\n",
       "         [0., 0., 0., ..., 0., 0., 0.],\n",
       "         [0., 0., 0., ..., 0., 0., 0.],\n",
       "         ...,\n",
       "         [0., 0., 0., ..., 0., 0., 0.],\n",
       "         [0., 0., 0., ..., 0., 0., 0.],\n",
       "         [0., 0., 0., ..., 0., 0., 0.]]],\n",
       "  mask=False,\n",
       "  fill_value=1e+20,\n",
       "  dtype=float32)"
      ]
     },
     "execution_count": 7,
     "metadata": {},
     "output_type": "execute_result"
    }
   ],
   "source": [
    "NPPArray"
   ]
  },
  {
   "cell_type": "code",
   "execution_count": 8,
   "metadata": {},
   "outputs": [],
   "source": [
    "airTempArray_flatten= airTempArray.filled().reshape(-1)\n",
    "netLongRadiantionFluxArray_flatten= netLongRadiantionFluxArray.filled().reshape(-1)\n",
    "shortwaveRadiationArray_flatten= shortwaveRadiationArray.filled().reshape(-1)\n",
    "precipitationArray_flatten= precipitationArray.filled().reshape(-1)\n",
    "NPPArray_flatten= NPPArray.filled().reshape(-1)"
   ]
  },
  {
   "cell_type": "code",
   "execution_count": 9,
   "metadata": {},
   "outputs": [],
   "source": [
    "# airTempArray_flatten= airTempArray.reshape(3516*145*192)\n",
    "# netLongRadiantionFluxArray_flatten= netLongRadiantionFluxArray.reshape(3516*145*192)\n",
    "# shortwaveRadiationArray_flatten= shortwaveRadiationArray.reshape(3516*145*192)\n",
    "# precipitationArray_flatten= precipitationArray.reshape(3516*145*192)\n",
    "# NPPArray_flatten= NPPArray.reshape(3516*145*192)\n",
    "# geo_data = np.array(list(zip(airTempArray_flatten,netLongRadiantionFluxArray_flatten,shortwaveRadiationArray_flatten,precipitationArray_flatten,NPPArray_flatten))).reshape(3516,145*192*5)\n",
    "# geo_data"
   ]
  },
  {
   "cell_type": "code",
   "execution_count": null,
   "metadata": {},
   "outputs": [],
   "source": []
  },
  {
   "cell_type": "code",
   "execution_count": 10,
   "metadata": {},
   "outputs": [
    {
     "name": "stdout",
     "output_type": "stream",
     "text": [
      "Total 19747 grid point needs to be removed, remaining 8093 locations\n"
     ]
    }
   ],
   "source": [
    "#把NPP展开flatten成3516*27840的ndarray(一共145*192 = 27840个grid point）\n",
    "# 去掉所有timestamp=0的column (这一步之后剩下8093个)\n",
    "# 观察到有些NPP很多timestamp=0，所以如果包含0过多（非0的没超过3400个）就去掉，这一步之后剩下5845个point\n",
    "reshape_NPP = NPPArray.reshape(3516,-1)\n",
    "col_index_0 = []\n",
    "for i in range(reshape_NPP.shape[1]):\n",
    "    if np.all(reshape_NPP[:,i] == 0) == True:\n",
    "        col_index_0.append(i)\n",
    "        continue\n",
    "    if np.count_nonzero(reshape_NPP[:,i])<3400:\n",
    "        col_index_0.append(i)   \n",
    "\n",
    "\n",
    "\n",
    "print(\"Total {} grid point needs to be removed, remaining {} locations\".format(len(col_index_0),27840-len(col_index_0)))"
   ]
  },
  {
   "cell_type": "code",
   "execution_count": 8,
   "metadata": {},
   "outputs": [
    {
     "data": {
      "text/plain": [
       "masked_array(data=[0., 0., 0., ..., 0., 0., 0.],\n",
       "             mask=False,\n",
       "       fill_value=1e+20,\n",
       "            dtype=float32)"
      ]
     },
     "execution_count": 8,
     "metadata": {},
     "output_type": "execute_result"
    }
   ],
   "source": [
    "clear_npp = np.delete(reshape_NPP,col_index_0,axis=1)\n",
    "clear_npp[:,1]\n"
   ]
  },
  {
   "cell_type": "code",
   "execution_count": 17,
   "metadata": {},
   "outputs": [
    {
     "data": {
      "text/plain": [
       "[<matplotlib.lines.Line2D at 0x230a03474f0>]"
      ]
     },
     "execution_count": 17,
     "metadata": {},
     "output_type": "execute_result"
    },
    {
     "data": {
      "image/png": "[encoded data removed]",
      "text/plain": [
       "<Figure size 432x288 with 1 Axes>"
      ]
     },
     "metadata": {
      "needs_background": "light"
     },
     "output_type": "display_data"
    }
   ],
   "source": [
    "plt.plot(clear_npp[:,1])"
   ]
  },
  {
   "cell_type": "code",
   "execution_count": 9,
   "metadata": {},
   "outputs": [
    {
     "name": "stdout",
     "output_type": "stream",
     "text": [
      "(3516, 8093)\n"
     ]
    }
   ],
   "source": [
    "#把对应其他4个时序变量，也去掉npp为0的column，和NPP不达标的column\n",
    "reshape_airTemp = airTempArray.reshape(3516,-1)\n",
    "reshape_precipitation = precipitationArray.reshape(3516,-1)\n",
    "reshape_netLongRadiantionFlux = netLongRadiantionFluxArray.reshape(3516,-1)\n",
    "reshape_shortwaveRadiation = shortwaveRadiationArray.reshape(3516,-1)\n",
    "\n",
    "clear_npp = np.delete(reshape_NPP,col_index_0,axis=1)\n",
    "clear_airTemp = np.delete(reshape_airTemp,col_index_0,axis=1)\n",
    "clear_precip = np.delete(reshape_precipitation,col_index_0,axis=1)\n",
    "clear_rlns = np.delete(reshape_netLongRadiantionFlux,col_index_0,axis=1)\n",
    "clear_rsds = np.delete(reshape_shortwaveRadiation,col_index_0,axis=1)\n",
    "\n",
    "#下一步需要取年平均值\n",
    "print(clear_npp.shape)"
   ]
  },
  {
   "cell_type": "code",
   "execution_count": 19,
   "metadata": {},
   "outputs": [
    {
     "ename": "NameError",
     "evalue": "name 'mean_npp' is not defined",
     "output_type": "error",
     "traceback": [
      "\u001b[1;31m---------------------------------------------------------------------------\u001b[0m",
      "\u001b[1;31mNameError\u001b[0m                                 Traceback (most recent call last)",
      "\u001b[1;32md:\\1study\\VegeSimulation\\for_students\\for_students\\global_longrun_lstm_v0.1.ipynb Cell 13\u001b[0m in \u001b[0;36m<cell line: 8>\u001b[1;34m()\u001b[0m\n\u001b[0;32m      <a href='vscode-notebook-cell:/d%3A/1study/VegeSimulation/for_students/for_students/global_longrun_lstm_v0.1.ipynb#X15sZmlsZQ%3D%3D?line=0'>1</a>\u001b[0m \u001b[39m# 取完年平均值之后，应该都是（293*5845）的shape\u001b[39;00m\n\u001b[0;32m      <a href='vscode-notebook-cell:/d%3A/1study/VegeSimulation/for_students/for_students/global_longrun_lstm_v0.1.ipynb#X15sZmlsZQ%3D%3D?line=1'>2</a>\u001b[0m \u001b[39m# mean_airTemp = clear_airTemp.reshape((-1, clear_npp.shape[1])).mean( axis=1)\u001b[39;00m\n\u001b[0;32m      <a href='vscode-notebook-cell:/d%3A/1study/VegeSimulation/for_students/for_students/global_longrun_lstm_v0.1.ipynb#X15sZmlsZQ%3D%3D?line=2'>3</a>\u001b[0m \u001b[39m# mean_Precip = clear_precip.reshape((-1, clear_npp.shape[1])).mean( axis=1)\u001b[39;00m\n\u001b[0;32m      <a href='vscode-notebook-cell:/d%3A/1study/VegeSimulation/for_students/for_students/global_longrun_lstm_v0.1.ipynb#X15sZmlsZQ%3D%3D?line=3'>4</a>\u001b[0m \u001b[39m# mean_rlns = clear_rlns.reshape((-1, 12, clear_npp.shape[1])).mean( axis=1)\u001b[39;00m\n\u001b[0;32m      <a href='vscode-notebook-cell:/d%3A/1study/VegeSimulation/for_students/for_students/global_longrun_lstm_v0.1.ipynb#X15sZmlsZQ%3D%3D?line=4'>5</a>\u001b[0m \u001b[39m# mean_rsds = clear_rsds.reshape((-1, 12, clear_npp.shape[1])).mean( axis=1)\u001b[39;00m\n\u001b[0;32m      <a href='vscode-notebook-cell:/d%3A/1study/VegeSimulation/for_students/for_students/global_longrun_lstm_v0.1.ipynb#X15sZmlsZQ%3D%3D?line=5'>6</a>\u001b[0m \u001b[39m# mean_npp = clear_npp.reshape((-1, 12, clear_npp.shape[1])).mean( axis=1) # response\u001b[39;00m\n\u001b[1;32m----> <a href='vscode-notebook-cell:/d%3A/1study/VegeSimulation/for_students/for_students/global_longrun_lstm_v0.1.ipynb#X15sZmlsZQ%3D%3D?line=7'>8</a>\u001b[0m \u001b[39mprint\u001b[39m(mean_npp\u001b[39m.\u001b[39mshape)\n",
      "\u001b[1;31mNameError\u001b[0m: name 'mean_npp' is not defined"
     ]
    }
   ],
   "source": [
    "# 取完年平均值之后，应该都是（293*5845）的shape\n",
    "# mean_airTemp = clear_airTemp.reshape((-1, clear_npp.shape[1])).mean( axis=1)\n",
    "# mean_Precip = clear_precip.reshape((-1, clear_npp.shape[1])).mean( axis=1)\n",
    "# mean_rlns = clear_rlns.reshape((-1, 12, clear_npp.shape[1])).mean( axis=1)\n",
    "# mean_rsds = clear_rsds.reshape((-1, 12, clear_npp.shape[1])).mean( axis=1)\n",
    "# mean_npp = clear_npp.reshape((-1, 12, clear_npp.shape[1])).mean( axis=1) # response\n",
    "\n",
    "print(mean_npp.shape)"
   ]
  },
  {
   "cell_type": "code",
   "execution_count": 20,
   "metadata": {},
   "outputs": [
    {
     "ename": "NameError",
     "evalue": "name 'mean_npp' is not defined",
     "output_type": "error",
     "traceback": [
      "\u001b[1;31m---------------------------------------------------------------------------\u001b[0m",
      "\u001b[1;31mNameError\u001b[0m                                 Traceback (most recent call last)",
      "\u001b[1;32md:\\1study\\VegeSimulation\\for_students\\for_students\\global_longrun_lstm_v0.1.ipynb Cell 14\u001b[0m in \u001b[0;36m<cell line: 1>\u001b[1;34m()\u001b[0m\n\u001b[1;32m----> <a href='vscode-notebook-cell:/d%3A/1study/VegeSimulation/for_students/for_students/global_longrun_lstm_v0.1.ipynb#X16sZmlsZQ%3D%3D?line=0'>1</a>\u001b[0m plt\u001b[39m.\u001b[39mplot(mean_npp[:,\u001b[39m233\u001b[39m]\u001b[39m.\u001b[39mreshape(\u001b[39m293\u001b[39m,\u001b[39m1\u001b[39m)[:\u001b[39m180\u001b[39m])\n",
      "\u001b[1;31mNameError\u001b[0m: name 'mean_npp' is not defined"
     ]
    }
   ],
   "source": [
    "plt.plot(mean_npp[:,233].reshape(293,1)[:180])"
   ]
  },
  {
   "cell_type": "code",
   "execution_count": 21,
   "metadata": {},
   "outputs": [
    {
     "data": {
      "text/plain": [
       "2160"
      ]
     },
     "execution_count": 21,
     "metadata": {},
     "output_type": "execute_result"
    }
   ],
   "source": [
    "180*12"
   ]
  },
  {
   "cell_type": "code",
   "execution_count": 10,
   "metadata": {},
   "outputs": [],
   "source": [
    "train_dataset = hstack((clear_airTemp[:,233].reshape(3516,1)[:2160],\n",
    "                        clear_precip[:,233].reshape(3516,1)[:2160],\n",
    "                        clear_rlns[:,233].reshape(3516,1)[:2160],\n",
    "                        clear_rsds[:,233].reshape(3516,1)[:2160],\n",
    "                        clear_npp[:,233].reshape(3516,1)[:2160]))\n",
    "\n",
    "# test_dataset = hstack((mean_airTemp[:,10].reshape(293,1),\n",
    "#                         mean_Precip[:,10].reshape(293,1),\n",
    "#                         mean_rlns[:,10].reshape(293,1),\n",
    "#                         mean_rsds[:,10].reshape(293,1),\n",
    "#                         mean_npp[:,10].reshape(293,1)))\n",
    "test_dataset = hstack((clear_airTemp[:,233].reshape(3516,1)[2160:],\n",
    "                        clear_precip[:,233].reshape(3516,1)[2160:],\n",
    "                        clear_rlns[:,233].reshape(3516,1)[2160:],\n",
    "                        clear_rsds[:,233].reshape(3516,1)[2160:],\n",
    "                        clear_npp[:,233].reshape(3516,1)[2160:]))"
   ]
  },
  {
   "cell_type": "code",
   "execution_count": 11,
   "metadata": {},
   "outputs": [],
   "source": [
    "train_dataset = hstack((clear_airTemp[:,233].reshape(3516,1),\n",
    "                        clear_precip[:,233].reshape(3516,1),\n",
    "                        clear_rlns[:,233].reshape(3516,1),\n",
    "                        clear_rsds[:,233].reshape(3516,1),\n",
    "                        clear_npp[:,233].reshape(3516,1)))"
   ]
  },
  {
   "cell_type": "markdown",
   "metadata": {},
   "source": [
    "### 准备predictors：一个grid point的版本，只有4个predictors,目的是让模型学习某一个grid point的生长动态，看能否应用到其他single grid point去预测 整个时序的NPP"
   ]
  },
  {
   "cell_type": "code",
   "execution_count": 24,
   "metadata": {},
   "outputs": [
    {
     "ename": "NameError",
     "evalue": "name 'mean_airTemp' is not defined",
     "output_type": "error",
     "traceback": [
      "\u001b[1;31m---------------------------------------------------------------------------\u001b[0m",
      "\u001b[1;31mNameError\u001b[0m                                 Traceback (most recent call last)",
      "\u001b[1;32md:\\1study\\VegeSimulation\\for_students\\for_students\\global_longrun_lstm_v0.1.ipynb Cell 19\u001b[0m in \u001b[0;36m<cell line: 2>\u001b[1;34m()\u001b[0m\n\u001b[0;32m      <a href='vscode-notebook-cell:/d%3A/1study/VegeSimulation/for_students/for_students/global_longrun_lstm_v0.1.ipynb#X23sZmlsZQ%3D%3D?line=0'>1</a>\u001b[0m \u001b[39m# 还没分开x和y，train[:,:4] = x, train[:,-1] = y\u001b[39;00m\n\u001b[1;32m----> <a href='vscode-notebook-cell:/d%3A/1study/VegeSimulation/for_students/for_students/global_longrun_lstm_v0.1.ipynb#X23sZmlsZQ%3D%3D?line=1'>2</a>\u001b[0m train_dataset \u001b[39m=\u001b[39m hstack((mean_airTemp[:,\u001b[39m233\u001b[39m]\u001b[39m.\u001b[39mreshape(\u001b[39m293\u001b[39m,\u001b[39m1\u001b[39m)[:\u001b[39m180\u001b[39m],\n\u001b[0;32m      <a href='vscode-notebook-cell:/d%3A/1study/VegeSimulation/for_students/for_students/global_longrun_lstm_v0.1.ipynb#X23sZmlsZQ%3D%3D?line=2'>3</a>\u001b[0m                         mean_Precip[:,\u001b[39m2330\u001b[39m]\u001b[39m.\u001b[39mreshape(\u001b[39m293\u001b[39m,\u001b[39m1\u001b[39m)[:\u001b[39m180\u001b[39m],\n\u001b[0;32m      <a href='vscode-notebook-cell:/d%3A/1study/VegeSimulation/for_students/for_students/global_longrun_lstm_v0.1.ipynb#X23sZmlsZQ%3D%3D?line=3'>4</a>\u001b[0m                         mean_rlns[:,\u001b[39m233\u001b[39m]\u001b[39m.\u001b[39mreshape(\u001b[39m293\u001b[39m,\u001b[39m1\u001b[39m)[:\u001b[39m180\u001b[39m],\n\u001b[0;32m      <a href='vscode-notebook-cell:/d%3A/1study/VegeSimulation/for_students/for_students/global_longrun_lstm_v0.1.ipynb#X23sZmlsZQ%3D%3D?line=4'>5</a>\u001b[0m                         mean_rsds[:,\u001b[39m233\u001b[39m]\u001b[39m.\u001b[39mreshape(\u001b[39m293\u001b[39m,\u001b[39m1\u001b[39m)[:\u001b[39m180\u001b[39m],\n\u001b[0;32m      <a href='vscode-notebook-cell:/d%3A/1study/VegeSimulation/for_students/for_students/global_longrun_lstm_v0.1.ipynb#X23sZmlsZQ%3D%3D?line=5'>6</a>\u001b[0m                         mean_npp[:,\u001b[39m233\u001b[39m]\u001b[39m.\u001b[39mreshape(\u001b[39m293\u001b[39m,\u001b[39m1\u001b[39m)[:\u001b[39m180\u001b[39m]))\n\u001b[0;32m      <a href='vscode-notebook-cell:/d%3A/1study/VegeSimulation/for_students/for_students/global_longrun_lstm_v0.1.ipynb#X23sZmlsZQ%3D%3D?line=7'>8</a>\u001b[0m \u001b[39m# test_dataset = hstack((mean_airTemp[:,10].reshape(293,1),\u001b[39;00m\n\u001b[0;32m      <a href='vscode-notebook-cell:/d%3A/1study/VegeSimulation/for_students/for_students/global_longrun_lstm_v0.1.ipynb#X23sZmlsZQ%3D%3D?line=8'>9</a>\u001b[0m \u001b[39m#                         mean_Precip[:,10].reshape(293,1),\u001b[39;00m\n\u001b[0;32m     <a href='vscode-notebook-cell:/d%3A/1study/VegeSimulation/for_students/for_students/global_longrun_lstm_v0.1.ipynb#X23sZmlsZQ%3D%3D?line=9'>10</a>\u001b[0m \u001b[39m#                         mean_rlns[:,10].reshape(293,1),\u001b[39;00m\n\u001b[0;32m     <a href='vscode-notebook-cell:/d%3A/1study/VegeSimulation/for_students/for_students/global_longrun_lstm_v0.1.ipynb#X23sZmlsZQ%3D%3D?line=10'>11</a>\u001b[0m \u001b[39m#                         mean_rsds[:,10].reshape(293,1),\u001b[39;00m\n\u001b[0;32m     <a href='vscode-notebook-cell:/d%3A/1study/VegeSimulation/for_students/for_students/global_longrun_lstm_v0.1.ipynb#X23sZmlsZQ%3D%3D?line=11'>12</a>\u001b[0m \u001b[39m#                         mean_npp[:,10].reshape(293,1)))\u001b[39;00m\n\u001b[0;32m     <a href='vscode-notebook-cell:/d%3A/1study/VegeSimulation/for_students/for_students/global_longrun_lstm_v0.1.ipynb#X23sZmlsZQ%3D%3D?line=13'>14</a>\u001b[0m test_dataset \u001b[39m=\u001b[39m hstack((mean_airTemp[:,\u001b[39m233\u001b[39m]\u001b[39m.\u001b[39mreshape(\u001b[39m293\u001b[39m,\u001b[39m1\u001b[39m)[\u001b[39m180\u001b[39m:],\n\u001b[0;32m     <a href='vscode-notebook-cell:/d%3A/1study/VegeSimulation/for_students/for_students/global_longrun_lstm_v0.1.ipynb#X23sZmlsZQ%3D%3D?line=14'>15</a>\u001b[0m                         mean_Precip[:,\u001b[39m233\u001b[39m]\u001b[39m.\u001b[39mreshape(\u001b[39m293\u001b[39m,\u001b[39m1\u001b[39m)[\u001b[39m180\u001b[39m:],\n\u001b[0;32m     <a href='vscode-notebook-cell:/d%3A/1study/VegeSimulation/for_students/for_students/global_longrun_lstm_v0.1.ipynb#X23sZmlsZQ%3D%3D?line=15'>16</a>\u001b[0m                         mean_rlns[:,\u001b[39m233\u001b[39m]\u001b[39m.\u001b[39mreshape(\u001b[39m293\u001b[39m,\u001b[39m1\u001b[39m)[\u001b[39m180\u001b[39m:],\n\u001b[0;32m     <a href='vscode-notebook-cell:/d%3A/1study/VegeSimulation/for_students/for_students/global_longrun_lstm_v0.1.ipynb#X23sZmlsZQ%3D%3D?line=16'>17</a>\u001b[0m                         mean_rsds[:,\u001b[39m233\u001b[39m]\u001b[39m.\u001b[39mreshape(\u001b[39m293\u001b[39m,\u001b[39m1\u001b[39m)[\u001b[39m180\u001b[39m:],\n\u001b[0;32m     <a href='vscode-notebook-cell:/d%3A/1study/VegeSimulation/for_students/for_students/global_longrun_lstm_v0.1.ipynb#X23sZmlsZQ%3D%3D?line=17'>18</a>\u001b[0m                         mean_npp[:,\u001b[39m233\u001b[39m]\u001b[39m.\u001b[39mreshape(\u001b[39m293\u001b[39m,\u001b[39m1\u001b[39m)[\u001b[39m180\u001b[39m:]))\n",
      "\u001b[1;31mNameError\u001b[0m: name 'mean_airTemp' is not defined"
     ]
    }
   ],
   "source": [
    "# 还没分开x和y，train[:,:4] = x, train[:,-1] = y\n",
    "train_dataset = hstack((mean_airTemp[:,233].reshape(293,1)[:180],\n",
    "                        mean_Precip[:,2330].reshape(293,1)[:180],\n",
    "                        mean_rlns[:,233].reshape(293,1)[:180],\n",
    "                        mean_rsds[:,233].reshape(293,1)[:180],\n",
    "                        mean_npp[:,233].reshape(293,1)[:180]))\n",
    "\n",
    "# test_dataset = hstack((mean_airTemp[:,10].reshape(293,1),\n",
    "#                         mean_Precip[:,10].reshape(293,1),\n",
    "#                         mean_rlns[:,10].reshape(293,1),\n",
    "#                         mean_rsds[:,10].reshape(293,1),\n",
    "#                         mean_npp[:,10].reshape(293,1)))\n",
    "\n",
    "test_dataset = hstack((mean_airTemp[:,233].reshape(293,1)[180:],\n",
    "                        mean_Precip[:,233].reshape(293,1)[180:],\n",
    "                        mean_rlns[:,233].reshape(293,1)[180:],\n",
    "                        mean_rsds[:,233].reshape(293,1)[180:],\n",
    "                        mean_npp[:,233].reshape(293,1)[180:]))\n",
    "\n",
    "print(\"Training sample size: {} \".format(train_dataset.shape))\n",
    "print(\"Testing sample size: {} \".format(test_dataset.shape))"
   ]
  },
  {
   "cell_type": "code",
   "execution_count": 25,
   "metadata": {},
   "outputs": [
    {
     "data": {
      "text/plain": [
       "(3516, 5)"
      ]
     },
     "execution_count": 25,
     "metadata": {},
     "output_type": "execute_result"
    }
   ],
   "source": [
    "train_dataset.shape"
   ]
  },
  {
   "cell_type": "code",
   "execution_count": 26,
   "metadata": {},
   "outputs": [
    {
     "name": "stdout",
     "output_type": "stream",
     "text": [
      "1335\n"
     ]
    }
   ],
   "source": [
    "print(np.count_nonzero(test_dataset[:,-1]))"
   ]
  },
  {
   "cell_type": "code",
   "execution_count": 12,
   "metadata": {},
   "outputs": [
    {
     "name": "stdout",
     "output_type": "stream",
     "text": [
      "Number of Folds = 3504\n"
     ]
    }
   ],
   "source": [
    "from sktime.forecasting.model_selection import SlidingWindowSplitter\n",
    "cv = SlidingWindowSplitter(window_length=12)\n",
    "\n",
    "n_splits = cv.get_n_splits(train_dataset)\n",
    "print(f\"Number of Folds = {n_splits}\")"
   ]
  },
  {
   "cell_type": "code",
   "execution_count": 13,
   "metadata": {},
   "outputs": [
    {
     "data": {
      "text/plain": [
       "(3516, 5)"
      ]
     },
     "execution_count": 13,
     "metadata": {},
     "output_type": "execute_result"
    }
   ],
   "source": [
    "train_dataset.shape"
   ]
  },
  {
   "cell_type": "code",
   "execution_count": 14,
   "metadata": {},
   "outputs": [
    {
     "data": {
      "text/plain": [
       "masked_array(data=[0., 0., 0., ..., 0., 0., 0.],\n",
       "             mask=False,\n",
       "       fill_value=1e+20)"
      ]
     },
     "execution_count": 14,
     "metadata": {},
     "output_type": "execute_result"
    }
   ],
   "source": [
    "train_dataset[:,-1]"
   ]
  },
  {
   "cell_type": "markdown",
   "metadata": {},
   "source": [
    "#### 根据timestamp 分开时序变量"
   ]
  },
  {
   "cell_type": "code",
   "execution_count": 23,
   "metadata": {},
   "outputs": [],
   "source": [
    "# split a multivariate sequence into samples\n",
    "def split_sequences(sequences, n_steps):\n",
    "\tX, y = list(), list()\n",
    "\tfor i in range(len(sequences)):\n",
    "\t\t# find the end of this pattern\n",
    "\t\tend_ix = i + n_steps\n",
    "\t\t# check if we are beyond the dataset|\n",
    "\t\tif end_ix > len(sequences):\n",
    "\t\t\tbreak\n",
    "\t\t# gather input and output parts of the pattern\n",
    "\t\tseq_x, seq_y = sequences[i:end_ix, :-1], sequences[i, -1]\n",
    "\t\tX.append(seq_x)\n",
    "\t\ty.append(seq_y)\n",
    "\treturn np.array(X), np.array(y)"
   ]
  },
  {
   "cell_type": "code",
   "execution_count": 24,
   "metadata": {},
   "outputs": [
    {
     "name": "stdout",
     "output_type": "stream",
     "text": [
      "(3505, 12, 4) (3505,)\n",
      "(1345, 12, 4) (1345,)\n"
     ]
    }
   ],
   "source": [
    "# 总共291个time sample，每个是3*4（3年*4个时序变量）的ndarray，对应npp取第三年的数值\n",
    "n_step = 12\n",
    "train_x, train_y = split_sequences(train_dataset, n_step)\n",
    "test_x, test_y = split_sequences(test_dataset, n_step)\n",
    "\n",
    "print(train_x.shape, train_y.shape)\n",
    "\n",
    "print(test_x.shape, test_y.shape)"
   ]
  },
  {
   "cell_type": "code",
   "execution_count": 35,
   "metadata": {},
   "outputs": [
    {
     "data": {
      "text/plain": [
       "array([0., 0., 0., ..., 0., 0., 0.])"
      ]
     },
     "execution_count": 35,
     "metadata": {},
     "output_type": "execute_result"
    }
   ],
   "source": [
    "train_y"
   ]
  },
  {
   "cell_type": "markdown",
   "metadata": {},
   "source": [
    "## 准备LSTM的模型：最简单的一个"
   ]
  },
  {
   "cell_type": "code",
   "execution_count": 31,
   "metadata": {},
   "outputs": [
    {
     "name": "stdout",
     "output_type": "stream",
     "text": [
      "WARNING:tensorflow:Layer lstm_5 will not use cuDNN kernels since it doesn't meet the criteria. It will use a generic GPU kernel as fallback when running on GPU.\n",
      "Epoch 1/10\n",
      "110/110 [==============================] - 6s 42ms/step - loss: 13639.2754 - accuracy: 0.0086\n",
      "Epoch 2/10\n",
      "110/110 [==============================] - 5s 43ms/step - loss: 4078.4338 - accuracy: 0.0074\n",
      "Epoch 3/10\n",
      "110/110 [==============================] - 5s 43ms/step - loss: 2275.6553 - accuracy: 0.0068\n",
      "Epoch 4/10\n",
      "110/110 [==============================] - 5s 43ms/step - loss: 1197.1699 - accuracy: 0.0057\n",
      "Epoch 5/10\n",
      "110/110 [==============================] - 5s 44ms/step - loss: 887.0107 - accuracy: 0.0049\n",
      "Epoch 6/10\n",
      "110/110 [==============================] - 5s 44ms/step - loss: 952.1599 - accuracy: 0.0049\n",
      "Epoch 7/10\n",
      "110/110 [==============================] - 5s 43ms/step - loss: 1214.7665 - accuracy: 0.0066\n",
      "Epoch 8/10\n",
      "110/110 [==============================] - 5s 43ms/step - loss: 711.1629 - accuracy: 0.0066\n",
      "Epoch 9/10\n",
      "110/110 [==============================] - 5s 44ms/step - loss: 546.4686 - accuracy: 0.0049\n",
      "Epoch 10/10\n",
      "110/110 [==============================] - 5s 43ms/step - loss: 453.3061 - accuracy: 0.0046\n",
      "43/43 [==============================] - 1s 10ms/step - loss: 418.4749 - accuracy: 0.0052\n"
     ]
    },
    {
     "ename": "TypeError",
     "evalue": "type list doesn't define __round__ method",
     "output_type": "error",
     "traceback": [
      "\u001b[1;31m---------------------------------------------------------------------------\u001b[0m",
      "\u001b[1;31mTypeError\u001b[0m                                 Traceback (most recent call last)",
      "\u001b[1;32md:\\1study\\VegeSimulation\\for_students\\for_students\\global_longrun_lstm_v0.1.ipynb Cell 30\u001b[0m in \u001b[0;36m<cell line: 22>\u001b[1;34m()\u001b[0m\n\u001b[0;32m     <a href='vscode-notebook-cell:/d%3A/1study/VegeSimulation/for_students/for_students/global_longrun_lstm_v0.1.ipynb#X40sZmlsZQ%3D%3D?line=19'>20</a>\u001b[0m scores \u001b[39m=\u001b[39m model\u001b[39m.\u001b[39mevaluate(test_x,test_y)\n\u001b[0;32m     <a href='vscode-notebook-cell:/d%3A/1study/VegeSimulation/for_students/for_students/global_longrun_lstm_v0.1.ipynb#X40sZmlsZQ%3D%3D?line=20'>21</a>\u001b[0m y_hat \u001b[39m=\u001b[39m model\u001b[39m.\u001b[39mpredict(test_x,verbose\u001b[39m=\u001b[39m\u001b[39m0\u001b[39m)\n\u001b[1;32m---> <a href='vscode-notebook-cell:/d%3A/1study/VegeSimulation/for_students/for_students/global_longrun_lstm_v0.1.ipynb#X40sZmlsZQ%3D%3D?line=21'>22</a>\u001b[0m \u001b[39mprint\u001b[39m(\u001b[39m'\u001b[39m\u001b[39mTest mse loss = \u001b[39m\u001b[39m{}\u001b[39;00m\u001b[39m \u001b[39m\u001b[39m'\u001b[39m\u001b[39m.\u001b[39mformat(\u001b[39mround\u001b[39;49m(scores,\u001b[39m5\u001b[39;49m)))\n",
      "\u001b[1;31mTypeError\u001b[0m: type list doesn't define __round__ method"
     ]
    }
   ],
   "source": [
    "import tensorflow as tf\n",
    "from keras.models import Sequential\n",
    "from keras.layers import LSTM,CuDNNLSTM,Embedding\n",
    "from keras.layers import Dense\n",
    "from keras.layers import Dropout\n",
    "\n",
    "n_step = 3\n",
    "n_features = 4\n",
    "\n",
    "# define model\n",
    "model = Sequential()\n",
    "model.add(LSTM(12, activation='relu', input_shape=(train_x.shape[1:])))\n",
    "model.add(Dense(1))\n",
    "model.compile(optimizer='adam', loss='mse',metrics=['accuracy'],)\n",
    "\n",
    "# fit model\n",
    "model.fit(train_x, train_y, epochs=10)\n",
    "\n",
    "# test model，score=mse loss\n",
    "scores = model.evaluate(test_x,test_y)\n",
    "y_hat = model.predict(test_x,verbose=0)\n",
    "print('Test mse loss = {} '.format(round(scores,5)))\n"
   ]
  },
  {
   "cell_type": "markdown",
   "metadata": {},
   "source": [
    "### 这个mse loss看起来还行，但是通过下面的画图发现预测的NPP并不准确，而且所选的test NPP甚至很多是负数？"
   ]
  },
  {
   "cell_type": "code",
   "execution_count": 51,
   "metadata": {},
   "outputs": [
    {
     "data": {
      "text/plain": [
       "(1345, 1)"
      ]
     },
     "execution_count": 51,
     "metadata": {},
     "output_type": "execute_result"
    }
   ],
   "source": [
    "y_hat.shape"
   ]
  },
  {
   "cell_type": "code",
   "execution_count": 36,
   "metadata": {},
   "outputs": [
    {
     "data": {
      "text/plain": [
       "<function matplotlib.pyplot.show(close=None, block=None)>"
      ]
     },
     "execution_count": 36,
     "metadata": {},
     "output_type": "execute_result"
    },
    {
     "data": {
      "image/png": "[encoded data removed]",
      "text/plain": [
       "<Figure size 432x288 with 1 Axes>"
      ]
     },
     "metadata": {
      "needs_background": "light"
     },
     "output_type": "display_data"
    }
   ],
   "source": [
    "\n",
    "\n",
    "plt.plot(train_y,label = \"NPP_hat\")\n",
    "# plt.plot(test_y,label = \"original NPP\")\n",
    "plt.legend()\n",
    "plt.show"
   ]
  },
  {
   "cell_type": "code",
   "execution_count": null,
   "metadata": {},
   "outputs": [],
   "source": []
  }
 ],
 "metadata": {
  "kernelspec": {
   "display_name": "Python 3.9.12",
   "language": "python",
   "name": "python3"
  },
  "language_info": {
   "codemirror_mode": {
    "name": "ipython",
    "version": 3
   },
   "file_extension": ".py",
   "mimetype": "text/x-python",
   "name": "python",
   "nbconvert_exporter": "python",
   "pygments_lexer": "ipython3",
   "version": "3.9.12"
  },
  "orig_nbformat": 4,
  "vscode": {
   "interpreter": {
    "hash": "dffd57b729f9c6050b3e1b8c8917b5f01ca933b5aafa7acdb6f92e4dd4a500a4"
   }
  }
 },
 "nbformat": 4,
 "nbformat_minor": 2
}
