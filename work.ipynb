{
 "cells": [
  {
   "cell_type": "code",
   "execution_count": 1,
   "metadata": {},
   "outputs": [
    {
     "name": "stdout",
     "output_type": "stream",
     "text": [
      "(60000, 28, 28)\n",
      "(28, 28)\n"
     ]
    },
    {
     "name": "stderr",
     "output_type": "stream",
     "text": [
      "d:\\ana\\lib\\site-packages\\keras\\optimizers\\optimizer_v2\\adam.py:110: UserWarning: The `lr` argument is deprecated, use `learning_rate` instead.\n",
      "  super(Adam, self).__init__(name, **kwargs)\n"
     ]
    }
   ],
   "source": [
    "import tensorflow as tf\n",
    "from tensorflow.keras.models import Sequential\n",
    "from tensorflow.keras.layers import Dense, Dropout, LSTM, CuDNNLSTM\n",
    "from tensorflow.compat.v1.keras.layers import CuDNNLSTM as LSTM\n",
    "\n",
    "\n",
    "mnist = tf.keras.datasets.mnist  # mnist is a dataset of 28x28 images of handwritten digits and their labels\n",
    "(x_train, y_train),(x_test, y_test) = mnist.load_data()  # unpacks images to x_train/x_test and labels to y_train/y_test\n",
    "\n",
    "x_train = x_train/255.0\n",
    "x_test = x_test/255.0\n",
    "\n",
    "print(x_train.shape)\n",
    "print(x_train[0].shape)\n",
    "\n",
    "model = Sequential()\n",
    "\n",
    "# IF you are running with a GPU, try out the CuDNNLSTM layer type instead (don't pass an activation, tanh is required)\n",
    "model.add(CuDNNLSTM(128, input_shape=(x_train.shape[1:]), return_sequences=True))\n",
    "model.add(Dropout(0.2))\n",
    "\n",
    "model.add(CuDNNLSTM(128, activation='relu'))\n",
    "model.add(Dropout(0.1))\n",
    "\n",
    "model.add(Dense(32, activation='relu'))\n",
    "model.add(Dropout(0.2))\n",
    "\n",
    "model.add(Dense(10, activation='softmax'))\n",
    "\n",
    "opt = tf.keras.optimizers.Adam(lr=0.001, decay=1e-6)\n",
    "\n",
    "# Compile model\n",
    "model.compile(\n",
    "    loss='sparse_categorical_crossentropy',\n",
    "    optimizer=opt,\n",
    "    metrics=['accuracy'],\n",
    ")\n",
    "\n",
    "model.fit(x_train,\n",
    "          y_train,\n",
    "          epochs=3,\n",
    "          validation_data=(x_test, y_test))"
   ]
  },
  {
   "cell_type": "code",
   "execution_count": 6,
   "metadata": {},
   "outputs": [],
   "source": [
    "from netCDF4 import Dataset\n",
    "import numpy as np\n",
    "import numpy.ma as ma\n",
    "import pandas as pd\n",
    "from numpy import hstack\n",
    "import matplotlib.pyplot as plt\n",
    "import gc\n",
    "airTemp = 'D:/1study/VegeSimulation/for_students/for_students/global-longrun_jedi-dvgm_inputs_outputs/tas.nc'\n",
    "netLongRadiantionFlux = 'D:/1study/VegeSimulation/for_students/for_students/global-longrun_jedi-dvgm_inputs_outputs/rlns.nc'\n",
    "shortwaveRadiation = 'D:/1study/VegeSimulation/for_students/for_students/global-longrun_jedi-dvgm_inputs_outputs/rsds.nc'\n",
    "precipitation = 'D:/1study/VegeSimulation/for_students/for_students/global-longrun_jedi-dvgm_inputs_outputs/pr.nc'\n",
    "output = 'D:/1study/VegeSimulation/for_students/for_students/global-longrun_jedi-dvgm_inputs_outputs/jedi_output.nc'\n",
    "\n",
    "landSeaMask = 'D:/1study/VegeSimulation/for_students/for_students/global-longrun_jedi-dvgm_inputs_outputs/landsea.nc'\n",
    "lantitude =  'D:/1study/VegeSimulation/for_students/for_students/global-longrun_jedi-dvgm_inputs_outputs/latitude.nc'\n",
    "longitude = 'D:/1study/VegeSimulation/for_students/for_students/global-longrun_jedi-dvgm_inputs_outputs/longitude.nc'\n",
    "elevation = 'D:/1study/VegeSimulation/for_students/for_students/global-longrun_jedi-dvgm_inputs_outputs/elevation.nc'\n",
    "moisture = 'D:/1study/VegeSimulation/for_students/for_students/global-longrun_jedi-dvgm_inputs_outputs/paw.nc'\n",
    "spatialMetaData = 'D:/1study/VegeSimulation/for_students/for_students/global-longrun_jedi-dvgm_inputs_outputs/globe_surf.nc'\n",
    "\n",
    "airTempDataset = Dataset(airTemp)\n",
    "netLongRadiantionFluxDataSet = Dataset(netLongRadiantionFlux)\n",
    "shortwaveRadiationDataset = Dataset(shortwaveRadiation)\n",
    "precipitationDataSet = Dataset(precipitation)\n",
    "outputDataset = Dataset(output)\n",
    "\n",
    "landSeaMaskDataset = Dataset(landSeaMask)\n",
    "lantitudeDataset = Dataset(lantitude)\n",
    "longitudeDataset = Dataset(longitude)\n",
    "elevationDataset = Dataset(elevation)\n",
    "moistureDataset = Dataset(moisture)\n",
    "spatialMetaDataset = Dataset(spatialMetaData)\n",
    "\n",
    "airTempArray = airTempDataset['tas'][:].squeeze()\n",
    "netLongRadiantionFluxArray = netLongRadiantionFluxDataSet['rlns'][:].squeeze()\n",
    "shortwaveRadiationArray = shortwaveRadiationDataset['rsds'][:].squeeze()\n",
    "precipitationArray = precipitationDataSet['pr'][:].squeeze()\n",
    "NPPArray = outputDataset['NPP'][:].squeeze()\n",
    "landSeaMaskArray = landSeaMaskDataset['var1'][:].squeeze()\n",
    "lantitudeArray = lantitudeDataset['lat'][:].squeeze()\n",
    "longitudeArray = longitudeDataset['lon'][:].squeeze()\n",
    "elevationArray = elevationDataset['data'][:].squeeze()\n",
    "moistureArray = moistureDataset['paw'][:].squeeze()\n",
    "spatialMetaDataArray = spatialMetaDataset['lev']"
   ]
  },
  {
   "cell_type": "code",
   "execution_count": 2,
   "metadata": {},
   "outputs": [
    {
     "data": {
      "text/plain": [
       "array([[[0., 0., 0., ..., 0., 0., 0.],\n",
       "        [0., 0., 0., ..., 0., 0., 0.],\n",
       "        [0., 0., 0., ..., 0., 0., 0.],\n",
       "        ...,\n",
       "        [0., 0., 0., ..., 0., 0., 0.],\n",
       "        [0., 0., 0., ..., 0., 0., 0.],\n",
       "        [0., 0., 0., ..., 0., 0., 0.]],\n",
       "\n",
       "       [[0., 0., 0., ..., 0., 0., 0.],\n",
       "        [0., 0., 0., ..., 0., 0., 0.],\n",
       "        [0., 0., 0., ..., 0., 0., 0.],\n",
       "        ...,\n",
       "        [0., 0., 0., ..., 0., 0., 0.],\n",
       "        [0., 0., 0., ..., 0., 0., 0.],\n",
       "        [0., 0., 0., ..., 0., 0., 0.]],\n",
       "\n",
       "       [[0., 0., 0., ..., 0., 0., 0.],\n",
       "        [0., 0., 0., ..., 0., 0., 0.],\n",
       "        [0., 0., 0., ..., 0., 0., 0.],\n",
       "        ...,\n",
       "        [0., 0., 0., ..., 0., 0., 0.],\n",
       "        [0., 0., 0., ..., 0., 0., 0.],\n",
       "        [0., 0., 0., ..., 0., 0., 0.]],\n",
       "\n",
       "       ...,\n",
       "\n",
       "       [[0., 0., 0., ..., 0., 0., 0.],\n",
       "        [0., 0., 0., ..., 0., 0., 0.],\n",
       "        [0., 0., 0., ..., 0., 0., 0.],\n",
       "        ...,\n",
       "        [0., 0., 0., ..., 0., 0., 0.],\n",
       "        [0., 0., 0., ..., 0., 0., 0.],\n",
       "        [0., 0., 0., ..., 0., 0., 0.]],\n",
       "\n",
       "       [[0., 0., 0., ..., 0., 0., 0.],\n",
       "        [0., 0., 0., ..., 0., 0., 0.],\n",
       "        [0., 0., 0., ..., 0., 0., 0.],\n",
       "        ...,\n",
       "        [0., 0., 0., ..., 0., 0., 0.],\n",
       "        [0., 0., 0., ..., 0., 0., 0.],\n",
       "        [0., 0., 0., ..., 0., 0., 0.]],\n",
       "\n",
       "       [[0., 0., 0., ..., 0., 0., 0.],\n",
       "        [0., 0., 0., ..., 0., 0., 0.],\n",
       "        [0., 0., 0., ..., 0., 0., 0.],\n",
       "        ...,\n",
       "        [0., 0., 0., ..., 0., 0., 0.],\n",
       "        [0., 0., 0., ..., 0., 0., 0.],\n",
       "        [0., 0., 0., ..., 0., 0., 0.]]])"
      ]
     },
     "execution_count": 2,
     "metadata": {},
     "output_type": "execute_result"
    }
   ],
   "source": [
    "airTempArray_flatten= airTempArray.filled().reshape(-1)\n",
    "netLongRadiantionFluxArray_flatten= netLongRadiantionFluxArray.filled().reshape(-1)\n",
    "shortwaveRadiationArray_flatten= shortwaveRadiationArray.filled().reshape(-1)\n",
    "precipitationArray_flatten= precipitationArray.filled().reshape(-1)\n",
    "NPPArray_flatten= NPPArray.filled().reshape(-1)"
   ]
  },
  {
   "cell_type": "code",
   "execution_count": null,
   "metadata": {},
   "outputs": [],
   "source": []
  }
 ],
 "metadata": {
  "kernelspec": {
   "display_name": "Python 3.9.12",
   "language": "python",
   "name": "python3"
  },
  "language_info": {
   "codemirror_mode": {
    "name": "ipython",
    "version": 3
   },
   "file_extension": ".py",
   "mimetype": "text/x-python",
   "name": "python",
   "nbconvert_exporter": "python",
   "pygments_lexer": "ipython3",
   "version": "3.9.12"
  },
  "orig_nbformat": 4,
  "vscode": {
   "interpreter": {
    "hash": "dffd57b729f9c6050b3e1b8c8917b5f01ca933b5aafa7acdb6f92e4dd4a500a4"
   }
  }
 },
 "nbformat": 4,
 "nbformat_minor": 2
}
